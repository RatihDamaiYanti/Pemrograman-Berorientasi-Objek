{
 "cells": [
  {
   "cell_type": "code",
   "execution_count": 3,
   "id": "0b694d41",
   "metadata": {},
   "outputs": [
    {
     "name": "stdout",
     "output_type": "stream",
     "text": [
      "25\n"
     ]
    }
   ],
   "source": [
    "print (10*2+5) "
   ]
  },
  {
   "cell_type": "code",
   "execution_count": 4,
   "id": "1f55200b",
   "metadata": {},
   "outputs": [
    {
     "name": "stdout",
     "output_type": "stream",
     "text": [
      "2023 Aku kaya mulia\n"
     ]
    }
   ],
   "source": [
    "print (\"2023 Aku kaya mulia\")"
   ]
  },
  {
   "cell_type": "code",
   "execution_count": 5,
   "id": "908b21ac",
   "metadata": {},
   "outputs": [
    {
     "name": "stdout",
     "output_type": "stream",
     "text": [
      "Ratih Damai Yanti\n"
     ]
    }
   ],
   "source": [
    "print (\"Ratih Damai Yanti\")"
   ]
  }
 ],
 "metadata": {
  "kernelspec": {
   "display_name": "Python 3 (ipykernel)",
   "language": "python",
   "name": "python3"
  },
  "language_info": {
   "codemirror_mode": {
    "name": "ipython",
    "version": 3
   },
   "file_extension": ".py",
   "mimetype": "text/x-python",
   "name": "python",
   "nbconvert_exporter": "python",
   "pygments_lexer": "ipython3",
   "version": "3.10.0"
  }
 },
 "nbformat": 4,
 "nbformat_minor": 5
}
